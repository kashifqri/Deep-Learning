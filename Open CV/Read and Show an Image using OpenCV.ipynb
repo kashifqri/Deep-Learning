{
 "cells": [
  {
   "cell_type": "code",
   "execution_count": 1,
   "id": "28f8d2e6-341a-479d-b911-d797d7945083",
   "metadata": {},
   "outputs": [],
   "source": [
    "import cv2\n",
    "import numpy as np\n",
    "import os"
   ]
  },
  {
   "cell_type": "code",
   "execution_count": 2,
   "id": "7eb4cdda-a6fe-4f3f-8178-2d4dc5821284",
   "metadata": {},
   "outputs": [],
   "source": [
    "#img = cv2.imread(\"C://Users//basit//Downloads//Green Minimalist Finance LinkedIn Banner (1).png\")\n",
    "#re_img=cv2.resize(img,(500,600))\n",
    "#cv2.imshow(\"me\",re_img)\n",
    "#cv2.waitKey(10000)\n",
    "#cv2.destroyAllWindows()"
   ]
  },
  {
   "cell_type": "code",
   "execution_count": 3,
   "id": "9fd9039d-0c25-4191-84f8-236bee7ace7b",
   "metadata": {},
   "outputs": [],
   "source": [
    "v=np.array([[1,2,3,1,2,3],[1,2,3,1,2,3]])"
   ]
  },
  {
   "cell_type": "code",
   "execution_count": 4,
   "id": "324fc9a8-94ae-48a6-8d04-cae79f7292e3",
   "metadata": {},
   "outputs": [
    {
     "data": {
      "text/plain": [
       "array([[1, 2, 3, 1, 2, 3],\n",
       "       [1, 2, 3, 1, 2, 3]])"
      ]
     },
     "execution_count": 4,
     "metadata": {},
     "output_type": "execute_result"
    }
   ],
   "source": [
    "v"
   ]
  },
  {
   "cell_type": "code",
   "execution_count": 5,
   "id": "263f9896-7924-4875-a65f-96ea2a110ba6",
   "metadata": {},
   "outputs": [],
   "source": [
    "#img = cv2.imread(\"C://Users//basit//Downloads//download.png\")\n",
    "#re_img=cv2.resize(img,(300,300))\n",
    "#h = np.hstack((re_img,re_img))\n",
    "#v = np.vstack((h,h))\n",
    "#cv2.imshow(\"me\",v)\n",
    "#cv2.waitKey(10000)\n",
    "#cv2.destroyAllWindows()"
   ]
  },
  {
   "cell_type": "code",
   "execution_count": 10,
   "id": "dd0cc28a-c6ba-459d-a1cf-be6f5e4daedc",
   "metadata": {
    "scrolled": true
   },
   "outputs": [
    {
     "data": {
      "text/plain": [
       "['00000444_016.jpg',\n",
       " '00000444_020.jpg',\n",
       " '00000444_025.jpg',\n",
       " '00000444_028.jpg',\n",
       " '00000445_000.jpg',\n",
       " '00000445_007.jpg',\n",
       " '00000445_008.jpg']"
      ]
     },
     "execution_count": 10,
     "metadata": {},
     "output_type": "execute_result"
    }
   ],
   "source": [
    "list_name = os.listdir(r\"C:\\Users\\basit\\Downloads\\img\")\n",
    "list_name"
   ]
  },
  {
   "cell_type": "code",
   "execution_count": null,
   "id": "06869e5c-4aa4-4852-8846-2f15c5de1057",
   "metadata": {},
   "outputs": [],
   "source": [
    "list_name = os.listdir(r\"C:\\Users\\basit\\Downloads\\img\")\n",
    "for name in list_name:\n",
    "    path = \"C:\\\\Users\\\\basit\\\\Downloads\\\\img\"\n",
    "    img_name = path + \"\\\\\" + name\n",
    "    img= cv2.imread(img_name)\n",
    "    img = cv2.resize(img,(500,600))\n",
    "    cv2.imshow(\"show\",img)\n",
    "    cv2.waitKey(5000)\n",
    "\n",
    "cv2.destroyAllWindows()    "
   ]
  },
  {
   "cell_type": "code",
   "execution_count": null,
   "id": "25d160b3-0845-407c-953b-7d3abc4db91e",
   "metadata": {},
   "outputs": [],
   "source": []
  }
 ],
 "metadata": {
  "kernelspec": {
   "display_name": "Python 3 (ipykernel)",
   "language": "python",
   "name": "python3"
  },
  "language_info": {
   "codemirror_mode": {
    "name": "ipython",
    "version": 3
   },
   "file_extension": ".py",
   "mimetype": "text/x-python",
   "name": "python",
   "nbconvert_exporter": "python",
   "pygments_lexer": "ipython3",
   "version": "3.12.5"
  }
 },
 "nbformat": 4,
 "nbformat_minor": 5
}
