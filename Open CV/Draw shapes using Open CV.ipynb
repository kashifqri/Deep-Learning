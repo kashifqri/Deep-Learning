{
 "cells": [
  {
   "cell_type": "code",
   "execution_count": 23,
   "id": "085c98c1-bcf0-40e7-8c8f-f25a0a7c3ad8",
   "metadata": {},
   "outputs": [],
   "source": [
    "import cv2\n",
    "import numpy as np"
   ]
  },
  {
   "cell_type": "code",
   "execution_count": 20,
   "id": "785da218-5f43-4c08-9330-5c482d93d524",
   "metadata": {},
   "outputs": [],
   "source": [
    "#make lines in image \n",
    "\n",
    "re_img = cv2.imread(r\"C:\\Users\\basit\\Downloads\\img\\00000444_016.jpg\")\n",
    "re_img=cv2.resize(re_img,(500,600))\n",
    "\n",
    "new_img= cv2.line(img= re_img,pt1=(165,100),pt2=(350,100),color=(0,255,0),thickness=4,lineType=4)\n",
    "\n",
    "cv2.imshow(\"me\",new_img)\n",
    "cv2.waitKey(10000)\n",
    "cv2.destroyAllWindows()"
   ]
  },
  {
   "cell_type": "code",
   "execution_count": 26,
   "id": "16ac0d95-3011-4142-afb5-c0f3bd6ce5d9",
   "metadata": {},
   "outputs": [],
   "source": [
    "#make rectangle in image\n",
    "\n",
    "re_img = cv2.imread(r\"C:\\Users\\basit\\Downloads\\img\\00000444_016.jpg\")\n",
    "re_img=cv2.resize(re_img,(500,600))\n",
    "\n",
    "new_img= cv2.rectangle(img= re_img,pt1=(165,75),pt2=(360,240),color=(0,255,0),thickness=4,lineType=16)\n",
    "\n",
    "cv2.imshow(\"me\",new_img)\n",
    "cv2.waitKey(10000)\n",
    "cv2.destroyAllWindows()"
   ]
  },
  {
   "cell_type": "code",
   "execution_count": 15,
   "id": "23a18d02-82e3-409f-bb6c-00c87b676697",
   "metadata": {},
   "outputs": [],
   "source": [
    "#make circle in image\n",
    "\n",
    "re_img = cv2.imread(r\"C:\\Users\\basit\\Downloads\\img\\00000444_016.jpg\")\n",
    "re_img=cv2.resize(re_img,(500,600))\n",
    "\n",
    "new_img= cv2.circle(img=re_img,center=(260,140),radius=110,color=(0,255,0),thickness=4,lineType=16)\n",
    "\n",
    "cv2.imshow(\"me\",new_img)\n",
    "cv2.waitKey(10000)\n",
    "cv2.destroyAllWindows()"
   ]
  },
  {
   "cell_type": "code",
   "execution_count": 21,
   "id": "359be8e7-9573-45dd-a867-f556ad976967",
   "metadata": {},
   "outputs": [],
   "source": [
    "#make elipse in image\n",
    "\n",
    "re_img = cv2.imread(r\"C:\\Users\\basit\\Downloads\\img\\00000444_016.jpg\")\n",
    "re_img=cv2.resize(re_img,(500,600))\n",
    "\n",
    "new_img = cv2.ellipse(img=re_img, center=(260, 140), axes=(125, 100),angle=30, startAngle=0, endAngle=360, color=(0, 255, 0), thickness=4, lineType=16)\n",
    "cv2.imshow(\"me\",new_img)\n",
    "cv2.waitKey(10000)\n",
    "cv2.destroyAllWindows()"
   ]
  },
  {
   "cell_type": "code",
   "execution_count": 29,
   "id": "f81867c8-7b12-4659-82f2-a333cc028d02",
   "metadata": {},
   "outputs": [],
   "source": [
    "#make polygon in image\n",
    "\n",
    "re_img = cv2.imread(r\"C:\\Users\\basit\\Downloads\\img\\00000444_016.jpg\")\n",
    "re_img=cv2.resize(re_img,(500,600))\n",
    "\n",
    "new_img = cv2.polylines(img=re_img,pts=[np.array([[100,150],[150,100],[300,200],[300,500],[100,500]])],isClosed=True,color=(0,255,0),thickness=4,lineType=16)\n",
    "cv2.imshow(\"me\",new_img)\n",
    "cv2.waitKey(10000)\n",
    "cv2.destroyAllWindows()"
   ]
  },
  {
   "cell_type": "code",
   "execution_count": 22,
   "id": "be6c73da-f54f-49f9-86fd-879e33519353",
   "metadata": {},
   "outputs": [],
   "source": [
    "#(img=re_img, center=(260, 140), axes=(125, 100),angle=30, startAngle=0, endAngle=360, color=(0, 255, 0), thickness=4, lineType=16)"
   ]
  },
  {
   "cell_type": "code",
   "execution_count": null,
   "id": "d4a14409-6321-40b5-97e5-ee71377d587e",
   "metadata": {},
   "outputs": [],
   "source": [
    "polylines(img: UMat, pts: _typing.Sequence[UMat], isClosed: bool, color: cv2.typing.Scalar, thickness: int=..., lineType: int=..., shift: int=...) -> UMat"
   ]
  }
 ],
 "metadata": {
  "kernelspec": {
   "display_name": "Python 3 (ipykernel)",
   "language": "python",
   "name": "python3"
  },
  "language_info": {
   "codemirror_mode": {
    "name": "ipython",
    "version": 3
   },
   "file_extension": ".py",
   "mimetype": "text/x-python",
   "name": "python",
   "nbconvert_exporter": "python",
   "pygments_lexer": "ipython3",
   "version": "3.12.5"
  }
 },
 "nbformat": 4,
 "nbformat_minor": 5
}
