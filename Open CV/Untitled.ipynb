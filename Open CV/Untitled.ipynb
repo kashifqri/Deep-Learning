{
 "cells": [
  {
   "cell_type": "code",
   "execution_count": 1,
   "id": "14615908-463f-4652-b8e3-408a6547c61b",
   "metadata": {},
   "outputs": [],
   "source": [
    "import cv2 "
   ]
  },
  {
   "cell_type": "code",
   "execution_count": 3,
   "id": "6ae99a57-9083-4a1a-ac76-adc785993052",
   "metadata": {},
   "outputs": [],
   "source": [
    "img = cv2.imread(\"C://Users//basit//Downloads//download.png\")\n",
    "\n",
    "className = []\n",
    "classFile = 'C:/Users/basit/Downloads/coco.names'\n",
    "with open(classFile,'rt') as f:\n",
    "   className = f.read().rstrip('\\n').split('\\n')\n",
    "\n",
    "configpath = 'C:/Users/basit/Downloads/ssd_mobilenet_v3_large_coco_2020_01_14.pbtxt'\n",
    "weightspath = 'C:/Users/basit/Downloads/frozen_inference_graph.pb'\n",
    "\n",
    "net = cv2.dnn_DetectionModel(weightspath,configpath)\n",
    "net.setInputSize(320,320)\n",
    "net.setInputScale(1.0/127.5)\n",
    "net.setInputMean(127.5,127.5,127.5)\n",
    "net.setInputSwapRB(True)\n",
    "\n",
    "classIds,confs,bbox = net.detect(img,confThreshold =0.5)\n",
    "print(classIds,bbox)\n",
    "\n",
    "cv2.imshow(\"me\",img)\n",
    "cv2.waitKey(0)    \n"
   ]
  },
  {
   "cell_type": "code",
   "execution_count": null,
   "id": "f86aece7-88ee-43ef-a428-c9eee336f79f",
   "metadata": {},
   "outputs": [],
   "source": []
  }
 ],
 "metadata": {
  "kernelspec": {
   "display_name": "Python 3 (ipykernel)",
   "language": "python",
   "name": "python3"
  },
  "language_info": {
   "codemirror_mode": {
    "name": "ipython",
    "version": 3
   },
   "file_extension": ".py",
   "mimetype": "text/x-python",
   "name": "python",
   "nbconvert_exporter": "python",
   "pygments_lexer": "ipython3",
   "version": "3.12.5"
  }
 },
 "nbformat": 4,
 "nbformat_minor": 5
}
