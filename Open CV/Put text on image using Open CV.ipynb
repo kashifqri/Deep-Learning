{
 "cells": [
  {
   "cell_type": "code",
   "execution_count": 1,
   "id": "e3b43e85-d18f-4dec-b062-7e38ab368f25",
   "metadata": {},
   "outputs": [],
   "source": [
    "import cv2\n"
   ]
  },
  {
   "cell_type": "code",
   "execution_count": 4,
   "id": "6144c88b-a684-4233-a948-57e0928605fc",
   "metadata": {},
   "outputs": [],
   "source": [
    "re_img = cv2.imread(r\"C:\\Users\\basit\\Downloads\\img\\00000444_016.jpg\")\n",
    "re_img=cv2.resize(re_img,(500,600))\n",
    "\n",
    "\n",
    "cv2.putText(img = re_img,\n",
    "text = \"wscube\",\n",
    "org = (50,50),\n",
    "fontFace = cv2.FONT_HERSHEY_DUPLEX,\n",
    "fontScale = 3,\n",
    "color = (0,0,255),\n",
    "thickness = 3,\n",
    "lineType = cv2.LINE_8,\n",
    "bottomLeftOrigin = False)\n",
    "\n",
    "cv2.imshow(\"me\",re_img)\n",
    "cv2.waitKey(10000)\n",
    "cv2.destroyAllWindows()"
   ]
  },
  {
   "cell_type": "code",
   "execution_count": null,
   "id": "4a909b88-8d74-4173-afee-54a7cf88b756",
   "metadata": {},
   "outputs": [],
   "source": []
  }
 ],
 "metadata": {
  "kernelspec": {
   "display_name": "Python 3 (ipykernel)",
   "language": "python",
   "name": "python3"
  },
  "language_info": {
   "codemirror_mode": {
    "name": "ipython",
    "version": 3
   },
   "file_extension": ".py",
   "mimetype": "text/x-python",
   "name": "python",
   "nbconvert_exporter": "python",
   "pygments_lexer": "ipython3",
   "version": "3.12.5"
  }
 },
 "nbformat": 4,
 "nbformat_minor": 5
}
