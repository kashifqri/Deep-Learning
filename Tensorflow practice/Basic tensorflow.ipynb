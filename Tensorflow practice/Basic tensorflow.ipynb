{
 "cells": [
  {
   "cell_type": "code",
   "execution_count": 2,
   "id": "1ad1b4d5-c2ed-4875-8c7b-7a2c68ac4c0b",
   "metadata": {},
   "outputs": [],
   "source": [
    "import tensorflow as tf"
   ]
  },
  {
   "cell_type": "markdown",
   "id": "e9d21b88-9601-46d0-8544-a7f5ab1fd3be",
   "metadata": {},
   "source": [
    "INITIALIZATION TENSOR  FIRST STEP "
   ]
  },
  {
   "cell_type": "code",
   "execution_count": 5,
   "id": "10c30883-2310-446f-82db-2bba49a831ad",
   "metadata": {},
   "outputs": [],
   "source": [
    "x= tf.constant(4,shape=(2,3),dtype=tf.float32)"
   ]
  },
  {
   "cell_type": "code",
   "execution_count": 6,
   "id": "ef28a921-71dd-4ae6-abff-8dd423786ff5",
   "metadata": {},
   "outputs": [
    {
     "data": {
      "text/plain": [
       "<tf.Tensor: shape=(2, 3), dtype=float32, numpy=\n",
       "array([[4., 4., 4.],\n",
       "       [4., 4., 4.]], dtype=float32)>"
      ]
     },
     "execution_count": 6,
     "metadata": {},
     "output_type": "execute_result"
    }
   ],
   "source": [
    "x"
   ]
  },
  {
   "cell_type": "code",
   "execution_count": 7,
   "id": "585660ca-e747-4a1f-8722-74ebfdabd5f3",
   "metadata": {},
   "outputs": [
    {
     "data": {
      "text/plain": [
       "<tf.Tensor: shape=(2, 3), dtype=float32, numpy=\n",
       "array([[0., 0., 0.],\n",
       "       [0., 0., 0.]], dtype=float32)>"
      ]
     },
     "execution_count": 7,
     "metadata": {},
     "output_type": "execute_result"
    }
   ],
   "source": [
    "x=tf.zeros((2,3))\n",
    "x"
   ]
  },
  {
   "cell_type": "code",
   "execution_count": 8,
   "id": "197804da-4781-4940-9e8d-438aa039879f",
   "metadata": {},
   "outputs": [
    {
     "data": {
      "text/plain": [
       "<tf.Tensor: shape=(2, 3), dtype=float32, numpy=\n",
       "array([[1., 1., 1.],\n",
       "       [1., 1., 1.]], dtype=float32)>"
      ]
     },
     "execution_count": 8,
     "metadata": {},
     "output_type": "execute_result"
    }
   ],
   "source": [
    "x=tf.ones((2,3))\n",
    "x"
   ]
  },
  {
   "cell_type": "code",
   "execution_count": 11,
   "id": "78f527e7-afa4-4b63-a7cf-e40bc3b06df3",
   "metadata": {},
   "outputs": [
    {
     "data": {
      "text/plain": [
       "<tf.Tensor: shape=(2, 2), dtype=float32, numpy=\n",
       "array([[1., 0.],\n",
       "       [0., 1.]], dtype=float32)>"
      ]
     },
     "execution_count": 11,
     "metadata": {},
     "output_type": "execute_result"
    }
   ],
   "source": [
    "x=tf.eye(2)  # eye is used for identify matrix \n",
    "x"
   ]
  },
  {
   "cell_type": "code",
   "execution_count": 14,
   "id": "3c92cf54-193d-4f40-81f8-40984bbb6ae6",
   "metadata": {},
   "outputs": [
    {
     "data": {
      "text/plain": [
       "<tf.Tensor: shape=(3, 3), dtype=float32, numpy=\n",
       "array([[ 1.9033892 ,  2.0566638 , -2.7493322 ],\n",
       "       [-1.067031  ,  0.49638015, -0.8526989 ],\n",
       "       [-0.6187241 ,  0.89391345,  0.18837593]], dtype=float32)>"
      ]
     },
     "execution_count": 14,
     "metadata": {},
     "output_type": "execute_result"
    }
   ],
   "source": [
    "x= tf.random.normal((3,3),mean=0,stddev=1)\n",
    "x"
   ]
  },
  {
   "cell_type": "code",
   "execution_count": 15,
   "id": "7243d266-35dc-4854-a7a7-0007446f5796",
   "metadata": {},
   "outputs": [
    {
     "data": {
      "text/plain": [
       "<tf.Tensor: shape=(3, 3), dtype=float32, numpy=\n",
       "array([[0.9877902 , 0.10213888, 0.3729247 ],\n",
       "       [0.38087785, 0.7336527 , 0.60821366],\n",
       "       [0.93814015, 0.9663229 , 0.17252827]], dtype=float32)>"
      ]
     },
     "execution_count": 15,
     "metadata": {},
     "output_type": "execute_result"
    }
   ],
   "source": [
    "x= tf.random.uniform((3,3),minval=0,maxval=1)\n",
    "x"
   ]
  },
  {
   "cell_type": "code",
   "execution_count": 24,
   "id": "7f16cbe3-6c69-47d1-81fc-d54bcecc8d7d",
   "metadata": {},
   "outputs": [],
   "source": [
    "x=tf.range(start=1,limit=10,delta=2)\n",
    "x = tf.cast(x,dtype=tf.float32)"
   ]
  },
  {
   "cell_type": "code",
   "execution_count": 25,
   "id": "0604af78-870f-44b4-a7c6-955b667b2d6c",
   "metadata": {},
   "outputs": [
    {
     "data": {
      "text/plain": [
       "<tf.Tensor: shape=(5,), dtype=float32, numpy=array([1., 3., 5., 7., 9.], dtype=float32)>"
      ]
     },
     "execution_count": 25,
     "metadata": {},
     "output_type": "execute_result"
    }
   ],
   "source": [
    "x"
   ]
  },
  {
   "cell_type": "markdown",
   "id": "95acace5-4dd4-4ab1-9973-5abdd3416c4e",
   "metadata": {},
   "source": [
    "MATHEMATICAL OPEARTION   SECOND STEP"
   ]
  },
  {
   "cell_type": "code",
   "execution_count": 26,
   "id": "79d7f507-fd9a-4ca5-a47d-cbc22fac1491",
   "metadata": {},
   "outputs": [],
   "source": [
    "x=tf.constant([1,3,7])\n",
    "y=tf.constant([3,5,9])"
   ]
  },
  {
   "cell_type": "code",
   "execution_count": 29,
   "id": "901bf96b-f1de-427c-b4e4-1ff2788ea16b",
   "metadata": {},
   "outputs": [
    {
     "data": {
      "text/plain": [
       "<tf.Tensor: shape=(3,), dtype=int32, numpy=array([ 4,  8, 16])>"
      ]
     },
     "execution_count": 29,
     "metadata": {},
     "output_type": "execute_result"
    }
   ],
   "source": [
    "z=tf.add(x,y)\n",
    "z"
   ]
  },
  {
   "cell_type": "code",
   "execution_count": 33,
   "id": "0dbe4a2e-8c9e-42cb-a803-82c97194473f",
   "metadata": {},
   "outputs": [
    {
     "data": {
      "text/plain": [
       "<tf.Tensor: shape=(), dtype=int32, numpy=81>"
      ]
     },
     "execution_count": 33,
     "metadata": {},
     "output_type": "execute_result"
    }
   ],
   "source": [
    "z = tf.tensordot(x,y,axes=1)\n",
    "z"
   ]
  },
  {
   "cell_type": "code",
   "execution_count": 40,
   "id": "88a79481-0c23-4b60-82ad-6d86b4d1701e",
   "metadata": {},
   "outputs": [
    {
     "data": {
      "text/plain": [
       "<tf.Tensor: shape=(2, 7), dtype=float32, numpy=\n",
       "array([[-1.121585  ,  1.3065987 ,  3.0599165 ,  1.4946877 , -0.86113274,\n",
       "        -0.01629472,  2.1200602 ],\n",
       "       [ 2.0308573 , -4.4877663 , -1.1145797 , -3.667304  ,  3.8611772 ,\n",
       "        -2.5814908 ,  1.3787773 ]], dtype=float32)>"
      ]
     },
     "execution_count": 40,
     "metadata": {},
     "output_type": "execute_result"
    }
   ],
   "source": [
    "x=tf.random.normal((2,4))\n",
    "y=tf.random.normal((4,7))\n",
    "\n",
    "z=tf.matmul(x,y) #first way\n",
    "\n",
    "z = x @ y #second way\n",
    "z"
   ]
  },
  {
   "cell_type": "markdown",
   "id": "e318b641-bbba-4a20-aba6-4eab2f5c8dc5",
   "metadata": {},
   "source": [
    "INDEXING      3RD STEP"
   ]
  },
  {
   "cell_type": "code",
   "execution_count": 45,
   "id": "4244eb96-94fa-48e3-b212-ae8ecc6836fd",
   "metadata": {},
   "outputs": [
    {
     "name": "stdout",
     "output_type": "stream",
     "text": [
      "tf.Tensor([1 5 9], shape=(3,), dtype=int32)\n"
     ]
    },
    {
     "data": {
      "text/plain": [
       "<tf.Tensor: shape=(8,), dtype=int32, numpy=array([2, 9, 8, 6, 5, 7, 3, 1])>"
      ]
     },
     "execution_count": 45,
     "metadata": {},
     "output_type": "execute_result"
    }
   ],
   "source": [
    "x=tf.constant([1,3,7,5,6,8,9,2])\n",
    "print(x[::3])  # for skiping\n",
    "(x[::-1])  #for reverse"
   ]
  },
  {
   "cell_type": "markdown",
   "id": "3a99ebdb-9628-461a-a0c5-d5c3c77d82c9",
   "metadata": {},
   "source": [
    "RESHAPING    STEP 4"
   ]
  },
  {
   "cell_type": "code",
   "execution_count": 46,
   "id": "6ade7859-342e-411b-88c7-95042b7ea929",
   "metadata": {},
   "outputs": [
    {
     "data": {
      "text/plain": [
       "<tf.Tensor: shape=(9,), dtype=int32, numpy=array([0, 1, 2, 3, 4, 5, 6, 7, 8])>"
      ]
     },
     "execution_count": 46,
     "metadata": {},
     "output_type": "execute_result"
    }
   ],
   "source": [
    "x = tf.range(9)\n",
    "x"
   ]
  },
  {
   "cell_type": "code",
   "execution_count": 48,
   "id": "9cd6e538-e852-4dcd-9c19-cf897dda266c",
   "metadata": {},
   "outputs": [
    {
     "data": {
      "text/plain": [
       "<tf.Tensor: shape=(3, 3), dtype=int32, numpy=\n",
       "array([[0, 1, 2],\n",
       "       [3, 4, 5],\n",
       "       [6, 7, 8]])>"
      ]
     },
     "execution_count": 48,
     "metadata": {},
     "output_type": "execute_result"
    }
   ],
   "source": [
    "x = tf.reshape(x,(3,3))\n",
    "x\n"
   ]
  },
  {
   "cell_type": "code",
   "execution_count": null,
   "id": "e208683b-fc89-41a1-87c6-5106e4186410",
   "metadata": {},
   "outputs": [],
   "source": []
  }
 ],
 "metadata": {
  "kernelspec": {
   "display_name": "Python 3 (ipykernel)",
   "language": "python",
   "name": "python3"
  },
  "language_info": {
   "codemirror_mode": {
    "name": "ipython",
    "version": 3
   },
   "file_extension": ".py",
   "mimetype": "text/x-python",
   "name": "python",
   "nbconvert_exporter": "python",
   "pygments_lexer": "ipython3",
   "version": "3.12.5"
  }
 },
 "nbformat": 4,
 "nbformat_minor": 5
}
