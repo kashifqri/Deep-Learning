{
 "cells": [
  {
   "cell_type": "code",
   "execution_count": null,
   "id": "5f285490-c0ba-4ee8-9959-563085fc7d9e",
   "metadata": {},
   "outputs": [],
   "source": [
    "import tensorflow as tf\n",
    "from tensorflow import keras\n",
    "from tensorflow.keras import layers,regularizers\n",
    "from tensorflow.keras.datasets import cifar10"
   ]
  },
  {
   "cell_type": "code",
   "execution_count": 4,
   "id": "a8e2bac6-5a3f-4e44-81cd-a79e9cf2bae8",
   "metadata": {},
   "outputs": [
    {
     "name": "stdout",
     "output_type": "stream",
     "text": [
      "Downloading data from https://www.cs.toronto.edu/~kriz/cifar-10-python.tar.gz\n",
      "\u001b[1m170498071/170498071\u001b[0m \u001b[32m━━━━━━━━━━━━━━━━━━━━\u001b[0m\u001b[37m\u001b[0m \u001b[1m126s\u001b[0m 1us/step\n"
     ]
    }
   ],
   "source": [
    "(x_train,y_train),(x_test,y_test) = cifar10.load_data()"
   ]
  },
  {
   "cell_type": "code",
   "execution_count": 5,
   "id": "6176ea7b-bb81-487a-afca-622b1ab37490",
   "metadata": {},
   "outputs": [],
   "source": [
    "x_train = x_train.astype(\"float32\")/255.0\n",
    "x_test = x_test.astype(\"float32\")/255.0"
   ]
  },
  {
   "cell_type": "code",
   "execution_count": 11,
   "id": "9023d71c-b9eb-4717-804f-5646bd6b9980",
   "metadata": {},
   "outputs": [
    {
     "name": "stdout",
     "output_type": "stream",
     "text": [
      "Epoch 1/5\n",
      "1563/1563 - 59s - 38ms/step - accuracy: 0.4109 - loss: 1.6303\n",
      "Epoch 2/5\n",
      "1563/1563 - 34s - 22ms/step - accuracy: 0.5371 - loss: 1.3062\n",
      "Epoch 3/5\n",
      "1563/1563 - 41s - 26ms/step - accuracy: 0.5830 - loss: 1.1857\n",
      "Epoch 4/5\n",
      "1563/1563 - 34s - 22ms/step - accuracy: 0.6171 - loss: 1.0992\n",
      "Epoch 5/5\n",
      "1563/1563 - 30s - 19ms/step - accuracy: 0.6419 - loss: 1.0294\n",
      "313/313 - 2s - 8ms/step - accuracy: 0.6354 - loss: 1.0515\n"
     ]
    },
    {
     "data": {
      "text/plain": [
       "[1.0515215396881104, 0.6353999972343445]"
      ]
     },
     "execution_count": 11,
     "metadata": {},
     "output_type": "execute_result"
    }
   ],
   "source": [
    "model = keras.Sequential(\n",
    "   [\n",
    "       keras.Input(shape=(32,32,3)),\n",
    "       layers.Conv2D(32,3,padding='valid',activation='relu'),\n",
    "       layers.MaxPool2D(pool_size=(2,2)),\n",
    "       layers.Conv2D(64,3,activation='relu'),\n",
    "       layers.MaxPooling2D(),\n",
    "       layers.Flatten(),\n",
    "       layers.Dense(64,activation='relu'),\n",
    "       layers.Dense(10),\n",
    "   ]\n",
    ")\n",
    "def my_model():\n",
    "    inputs = keras.Input(shape=(32,32,3))\n",
    "    x = layers.Conv2D( 32,3)(inputs)\n",
    "    x = layers.BatchNormalization()(x)\n",
    "    x = keras.activations.relu(x)\n",
    "    x = layers.MaxPool2D()(x)\n",
    "    x = layers.Conv2D(64,5,padding='same')(x)\n",
    "    x = layers.BatchNormalization()(x)\n",
    "    x = keras.activations.relu(x)\n",
    "    x = layers.Flatten()(x)\n",
    "    x =layers.Dense(64,activation='relu')(x)\n",
    "    outputs = layers.Dense(10)(x)\n",
    "    model = keras.Model(inputs = inputs, outputs = outputs)\n",
    "    return model \n",
    "\n",
    "mode = my_model()\n",
    "\n",
    "model.compile(\n",
    "    loss = keras.losses.SparseCategoricalCrossentropy(from_logits=True),\n",
    "    optimizer = keras.optimizers.Adam(learning_rate =3e-4),\n",
    "    metrics = ['accuracy'],\n",
    ")\n",
    "\n",
    "model.fit(x_train,y_train,batch_size=32,epochs=5,verbose=2)\n",
    "model.evaluate(x_test,y_test,batch_size=32,verbose=2)\n"
   ]
  },
  {
   "cell_type": "code",
   "execution_count": null,
   "id": "636a265c-241c-4fcc-b224-89f611ffae0d",
   "metadata": {},
   "outputs": [],
   "source": []
  }
 ],
 "metadata": {
  "kernelspec": {
   "display_name": "Python 3 (ipykernel)",
   "language": "python",
   "name": "python3"
  },
  "language_info": {
   "codemirror_mode": {
    "name": "ipython",
    "version": 3
   },
   "file_extension": ".py",
   "mimetype": "text/x-python",
   "name": "python",
   "nbconvert_exporter": "python",
   "pygments_lexer": "ipython3",
   "version": "3.12.5"
  }
 },
 "nbformat": 4,
 "nbformat_minor": 5
}
