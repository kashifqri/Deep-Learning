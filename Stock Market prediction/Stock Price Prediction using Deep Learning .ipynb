{
 "cells": [
  {
   "cell_type": "code",
   "execution_count": 65,
   "id": "ca10b9ac-704b-48c0-b7bb-4caeaa77e51b",
   "metadata": {},
   "outputs": [],
   "source": [
    "import numpy as np\n",
    "import pandas as pd\n",
    "import matplotlib.pyplot as plt\n",
    "from sklearn.preprocessing import MinMaxScaler\n",
    "from tensorflow.keras.models import Sequential\n",
    "from tensorflow.keras.layers import LSTM, Dense\n",
    "from sklearn.preprocessing import StandardScaler\n"
   ]
  },
  {
   "cell_type": "code",
   "execution_count": 84,
   "id": "b2e25712-76df-4fc0-bae0-ae9a7d695d1f",
   "metadata": {},
   "outputs": [],
   "source": [
    "data = pd.read_csv('C://Users//basit//Downloads//tesla-stock-price.csv')[['close', 'volume', 'open', 'high', 'low']]\n"
   ]
  },
  {
   "cell_type": "code",
   "execution_count": 85,
   "id": "0a8ac702-5075-4938-a552-025c489b6152",
   "metadata": {},
   "outputs": [],
   "source": [
    "data['volume'] = data['volume'].str.replace(',', '').astype(float)\n"
   ]
  },
  {
   "cell_type": "code",
   "execution_count": 86,
   "id": "7766e0df-1f26-4f28-8042-0d7e6b250fda",
   "metadata": {},
   "outputs": [
    {
     "data": {
      "text/html": [
       "<div>\n",
       "<style scoped>\n",
       "    .dataframe tbody tr th:only-of-type {\n",
       "        vertical-align: middle;\n",
       "    }\n",
       "\n",
       "    .dataframe tbody tr th {\n",
       "        vertical-align: top;\n",
       "    }\n",
       "\n",
       "    .dataframe thead th {\n",
       "        text-align: right;\n",
       "    }\n",
       "</style>\n",
       "<table border=\"1\" class=\"dataframe\">\n",
       "  <thead>\n",
       "    <tr style=\"text-align: right;\">\n",
       "      <th></th>\n",
       "      <th>close</th>\n",
       "      <th>volume</th>\n",
       "      <th>open</th>\n",
       "      <th>high</th>\n",
       "      <th>low</th>\n",
       "    </tr>\n",
       "  </thead>\n",
       "  <tbody>\n",
       "    <tr>\n",
       "      <th>0</th>\n",
       "      <td>270.49</td>\n",
       "      <td>4787699.0</td>\n",
       "      <td>264.50</td>\n",
       "      <td>273.8800</td>\n",
       "      <td>262.2400</td>\n",
       "    </tr>\n",
       "    <tr>\n",
       "      <th>1</th>\n",
       "      <td>259.59</td>\n",
       "      <td>6189026.0</td>\n",
       "      <td>259.06</td>\n",
       "      <td>263.2800</td>\n",
       "      <td>254.5367</td>\n",
       "    </tr>\n",
       "    <tr>\n",
       "      <th>2</th>\n",
       "      <td>258.78</td>\n",
       "      <td>7189257.0</td>\n",
       "      <td>261.00</td>\n",
       "      <td>261.9900</td>\n",
       "      <td>252.0100</td>\n",
       "    </tr>\n",
       "    <tr>\n",
       "      <th>3</th>\n",
       "      <td>252.23</td>\n",
       "      <td>8128184.0</td>\n",
       "      <td>257.53</td>\n",
       "      <td>262.2500</td>\n",
       "      <td>249.0300</td>\n",
       "    </tr>\n",
       "    <tr>\n",
       "      <th>4</th>\n",
       "      <td>256.88</td>\n",
       "      <td>12781560.0</td>\n",
       "      <td>264.61</td>\n",
       "      <td>265.5100</td>\n",
       "      <td>247.7700</td>\n",
       "    </tr>\n",
       "    <tr>\n",
       "      <th>...</th>\n",
       "      <td>...</td>\n",
       "      <td>...</td>\n",
       "      <td>...</td>\n",
       "      <td>...</td>\n",
       "      <td>...</td>\n",
       "    </tr>\n",
       "    <tr>\n",
       "      <th>752</th>\n",
       "      <td>210.09</td>\n",
       "      <td>4177956.0</td>\n",
       "      <td>211.99</td>\n",
       "      <td>214.8100</td>\n",
       "      <td>208.8000</td>\n",
       "    </tr>\n",
       "    <tr>\n",
       "      <th>753</th>\n",
       "      <td>213.03</td>\n",
       "      <td>14877020.0</td>\n",
       "      <td>227.72</td>\n",
       "      <td>228.6000</td>\n",
       "      <td>202.0000</td>\n",
       "    </tr>\n",
       "    <tr>\n",
       "      <th>754</th>\n",
       "      <td>228.10</td>\n",
       "      <td>2506836.0</td>\n",
       "      <td>226.50</td>\n",
       "      <td>231.1500</td>\n",
       "      <td>224.9400</td>\n",
       "    </tr>\n",
       "    <tr>\n",
       "      <th>755</th>\n",
       "      <td>227.01</td>\n",
       "      <td>4327574.0</td>\n",
       "      <td>223.04</td>\n",
       "      <td>230.4805</td>\n",
       "      <td>222.8700</td>\n",
       "    </tr>\n",
       "    <tr>\n",
       "      <th>756</th>\n",
       "      <td>221.31</td>\n",
       "      <td>2835920.0</td>\n",
       "      <td>216.43</td>\n",
       "      <td>221.7300</td>\n",
       "      <td>213.7000</td>\n",
       "    </tr>\n",
       "  </tbody>\n",
       "</table>\n",
       "<p>757 rows × 5 columns</p>\n",
       "</div>"
      ],
      "text/plain": [
       "      close      volume    open      high       low\n",
       "0    270.49   4787699.0  264.50  273.8800  262.2400\n",
       "1    259.59   6189026.0  259.06  263.2800  254.5367\n",
       "2    258.78   7189257.0  261.00  261.9900  252.0100\n",
       "3    252.23   8128184.0  257.53  262.2500  249.0300\n",
       "4    256.88  12781560.0  264.61  265.5100  247.7700\n",
       "..      ...         ...     ...       ...       ...\n",
       "752  210.09   4177956.0  211.99  214.8100  208.8000\n",
       "753  213.03  14877020.0  227.72  228.6000  202.0000\n",
       "754  228.10   2506836.0  226.50  231.1500  224.9400\n",
       "755  227.01   4327574.0  223.04  230.4805  222.8700\n",
       "756  221.31   2835920.0  216.43  221.7300  213.7000\n",
       "\n",
       "[757 rows x 5 columns]"
      ]
     },
     "execution_count": 86,
     "metadata": {},
     "output_type": "execute_result"
    }
   ],
   "source": [
    "data"
   ]
  },
  {
   "cell_type": "code",
   "execution_count": 87,
   "id": "792d99fc-2581-4d30-89f9-a3da7ba14f8a",
   "metadata": {},
   "outputs": [],
   "source": [
    "scaler = StandardScaler()\n",
    "data_scaled = scaler.fit_transform(data)"
   ]
  },
  {
   "cell_type": "code",
   "execution_count": 88,
   "id": "d7516bd4-7392-4357-ba28-30ccf6d3d53e",
   "metadata": {},
   "outputs": [],
   "source": [
    "def create_sequences(data, step=90):\n",
    "    X, Y = [], []\n",
    "    for i in range(len(data) - step):\n",
    "        X.append(data[i:i+step])\n",
    "        Y.append(data[i+step, 3])  \n",
    "    return np.array(X), np.array(Y)"
   ]
  },
  {
   "cell_type": "code",
   "execution_count": 89,
   "id": "09be1352-089a-4736-91b8-72ff15e03f22",
   "metadata": {},
   "outputs": [],
   "source": [
    "X, Y = create_sequences(data_scaled)\n",
    "X = X.reshape(X.shape[0], X.shape[1], X.shape[2])"
   ]
  },
  {
   "cell_type": "code",
   "execution_count": 90,
   "id": "09a3b3ac-9279-40e4-a4bd-7a70d8b011fa",
   "metadata": {},
   "outputs": [],
   "source": [
    "train_size = int(len(X) * 0.8)\n",
    "X_train, X_test = X[:train_size], X[train_size:]\n",
    "Y_train, Y_test = Y[:train_size], Y[train_size:]"
   ]
  },
  {
   "cell_type": "code",
   "execution_count": 99,
   "id": "433b023f-e34c-4097-9cee-4729e73c4a28",
   "metadata": {},
   "outputs": [
    {
     "name": "stderr",
     "output_type": "stream",
     "text": [
      "C:\\Users\\basit\\AppData\\Local\\Programs\\Python\\Python312\\Lib\\site-packages\\keras\\src\\layers\\rnn\\rnn.py:200: UserWarning: Do not pass an `input_shape`/`input_dim` argument to a layer. When using Sequential models, prefer using an `Input(shape)` object as the first layer in the model instead.\n",
      "  super().__init__(**kwargs)\n"
     ]
    }
   ],
   "source": [
    "model = Sequential([\n",
    "    LSTM(50, return_sequences=True, input_shape=(X.shape[1], X.shape[2])),\n",
    "    LSTM(50),\n",
    "    Dense(1)\n",
    "])\n"
   ]
  },
  {
   "cell_type": "code",
   "execution_count": 100,
   "id": "86d0f3cf-24da-422a-b351-14703064aeba",
   "metadata": {},
   "outputs": [
    {
     "name": "stdout",
     "output_type": "stream",
     "text": [
      "Epoch 1/15\n",
      "\u001b[1m54/54\u001b[0m \u001b[32m━━━━━━━━━━━━━━━━━━━━\u001b[0m\u001b[37m\u001b[0m \u001b[1m7s\u001b[0m 62ms/step - loss: 0.2449 - val_loss: 0.0805\n",
      "Epoch 2/15\n",
      "\u001b[1m54/54\u001b[0m \u001b[32m━━━━━━━━━━━━━━━━━━━━\u001b[0m\u001b[37m\u001b[0m \u001b[1m3s\u001b[0m 50ms/step - loss: 0.0500 - val_loss: 0.0619\n",
      "Epoch 3/15\n",
      "\u001b[1m54/54\u001b[0m \u001b[32m━━━━━━━━━━━━━━━━━━━━\u001b[0m\u001b[37m\u001b[0m \u001b[1m3s\u001b[0m 58ms/step - loss: 0.0387 - val_loss: 0.0497\n",
      "Epoch 4/15\n",
      "\u001b[1m54/54\u001b[0m \u001b[32m━━━━━━━━━━━━━━━━━━━━\u001b[0m\u001b[37m\u001b[0m \u001b[1m5s\u001b[0m 51ms/step - loss: 0.0312 - val_loss: 0.0429\n",
      "Epoch 5/15\n",
      "\u001b[1m54/54\u001b[0m \u001b[32m━━━━━━━━━━━━━━━━━━━━\u001b[0m\u001b[37m\u001b[0m \u001b[1m3s\u001b[0m 52ms/step - loss: 0.0315 - val_loss: 0.0347\n",
      "Epoch 6/15\n",
      "\u001b[1m54/54\u001b[0m \u001b[32m━━━━━━━━━━━━━━━━━━━━\u001b[0m\u001b[37m\u001b[0m \u001b[1m3s\u001b[0m 51ms/step - loss: 0.0250 - val_loss: 0.0422\n",
      "Epoch 7/15\n",
      "\u001b[1m54/54\u001b[0m \u001b[32m━━━━━━━━━━━━━━━━━━━━\u001b[0m\u001b[37m\u001b[0m \u001b[1m3s\u001b[0m 56ms/step - loss: 0.0248 - val_loss: 0.0331\n",
      "Epoch 8/15\n",
      "\u001b[1m54/54\u001b[0m \u001b[32m━━━━━━━━━━━━━━━━━━━━\u001b[0m\u001b[37m\u001b[0m \u001b[1m3s\u001b[0m 54ms/step - loss: 0.0214 - val_loss: 0.0283\n",
      "Epoch 9/15\n",
      "\u001b[1m54/54\u001b[0m \u001b[32m━━━━━━━━━━━━━━━━━━━━\u001b[0m\u001b[37m\u001b[0m \u001b[1m3s\u001b[0m 54ms/step - loss: 0.0203 - val_loss: 0.0272\n",
      "Epoch 10/15\n",
      "\u001b[1m54/54\u001b[0m \u001b[32m━━━━━━━━━━━━━━━━━━━━\u001b[0m\u001b[37m\u001b[0m \u001b[1m3s\u001b[0m 51ms/step - loss: 0.0179 - val_loss: 0.0245\n",
      "Epoch 11/15\n",
      "\u001b[1m54/54\u001b[0m \u001b[32m━━━━━━━━━━━━━━━━━━━━\u001b[0m\u001b[37m\u001b[0m \u001b[1m3s\u001b[0m 59ms/step - loss: 0.0164 - val_loss: 0.0232\n",
      "Epoch 12/15\n",
      "\u001b[1m54/54\u001b[0m \u001b[32m━━━━━━━━━━━━━━━━━━━━\u001b[0m\u001b[37m\u001b[0m \u001b[1m3s\u001b[0m 60ms/step - loss: 0.0164 - val_loss: 0.0224\n",
      "Epoch 13/15\n",
      "\u001b[1m54/54\u001b[0m \u001b[32m━━━━━━━━━━━━━━━━━━━━\u001b[0m\u001b[37m\u001b[0m \u001b[1m3s\u001b[0m 51ms/step - loss: 0.0154 - val_loss: 0.0222\n",
      "Epoch 14/15\n",
      "\u001b[1m54/54\u001b[0m \u001b[32m━━━━━━━━━━━━━━━━━━━━\u001b[0m\u001b[37m\u001b[0m \u001b[1m3s\u001b[0m 55ms/step - loss: 0.0143 - val_loss: 0.0190\n",
      "Epoch 15/15\n",
      "\u001b[1m54/54\u001b[0m \u001b[32m━━━━━━━━━━━━━━━━━━━━\u001b[0m\u001b[37m\u001b[0m \u001b[1m3s\u001b[0m 53ms/step - loss: 0.0111 - val_loss: 0.0167\n"
     ]
    },
    {
     "data": {
      "text/plain": [
       "<keras.src.callbacks.history.History at 0x14f93a59160>"
      ]
     },
     "execution_count": 100,
     "metadata": {},
     "output_type": "execute_result"
    }
   ],
   "source": [
    "model.compile(optimizer='adam', loss='mse')\n",
    "model.fit(X_train, Y_train, epochs=15, batch_size=10, validation_data=(X_test, Y_test))"
   ]
  },
  {
   "cell_type": "code",
   "execution_count": 107,
   "id": "dc1dc4f1-6dec-47c9-8a66-c8481e3b8c76",
   "metadata": {},
   "outputs": [
    {
     "name": "stdout",
     "output_type": "stream",
     "text": [
      "\u001b[1m5/5\u001b[0m \u001b[32m━━━━━━━━━━━━━━━━━━━━\u001b[0m\u001b[37m\u001b[0m \u001b[1m0s\u001b[0m 43ms/step \n"
     ]
    }
   ],
   "source": [
    "predicted_scaled = model.predict(X_test)  \n",
    "dummy_features = np.zeros((len(X_test), 4)) \n",
    "\n",
    "predictions = scaler.inverse_transform(np.concatenate((predicted_scaled, dummy_features), axis=1))[:, 0]  \n"
   ]
  },
  {
   "cell_type": "code",
   "execution_count": 108,
   "id": "777d1f07-1a1a-4341-9712-5f215086f3fd",
   "metadata": {},
   "outputs": [
    {
     "data": {
      "image/png": "[encoded data removed]",
      "text/plain": [
       "<Figure size 640x480 with 1 Axes>"
      ]
     },
     "metadata": {},
     "output_type": "display_data"
    }
   ],
   "source": [
    "plt.plot(data.index[train_size+90:], data['close'].values[train_size+90:], label='Actual')\n",
    "plt.plot(data.index[train_size+90:], predictions, label='Predicted')\n",
    "plt.legend()\n",
    "plt.show()"
   ]
  },
  {
   "cell_type": "code",
   "execution_count": 109,
   "id": "b6eb6b71-5b03-44a5-aa18-19fcfab108cb",
   "metadata": {},
   "outputs": [
    {
     "name": "stdout",
     "output_type": "stream",
     "text": [
      "Mean Squared Error (MSE): 47713.10800067004\n",
      "Root Mean Squared Error (RMSE): 218.43330332316555\n"
     ]
    }
   ],
   "source": [
    "from sklearn.metrics import mean_squared_error\n",
    "\n",
    "mse = mean_squared_error(Y_test, predictions)\n",
    "rmse = np.sqrt(mse)\n",
    "\n",
    "print(f\"Mean Squared Error (MSE): {mse}\")\n",
    "print(f\"Root Mean Squared Error (RMSE): {rmse}\")\n"
   ]
  },
  {
   "cell_type": "code",
   "execution_count": 110,
   "id": "a0f3678c-75f4-40b8-9617-179afefbaf2b",
   "metadata": {},
   "outputs": [
    {
     "name": "stdout",
     "output_type": "stream",
     "text": [
      "Mean Absolute Error (MAE): 217.22149672269776\n"
     ]
    }
   ],
   "source": [
    "from sklearn.metrics import mean_absolute_error\n",
    "\n",
    "mae = mean_absolute_error(Y_test, predictions)\n",
    "print(f\"Mean Absolute Error (MAE): {mae}\")\n"
   ]
  },
  {
   "cell_type": "code",
   "execution_count": 111,
   "id": "fbe7c0db-13b2-4267-96d2-f25c4c4db606",
   "metadata": {},
   "outputs": [
    {
     "name": "stdout",
     "output_type": "stream",
     "text": [
      "R-Squared Score: -261220.89168232057\n"
     ]
    }
   ],
   "source": [
    "from sklearn.metrics import r2_score\n",
    "\n",
    "r2 = r2_score(Y_test, predictions)\n",
    "print(f\"R-Squared Score: {r2}\")\n",
    "\n"
   ]
  },
  {
   "cell_type": "code",
   "execution_count": null,
   "id": "d32f25dd-9c76-417a-bf85-0dcadbfc00fc",
   "metadata": {},
   "outputs": [],
   "source": []
  },
  {
   "cell_type": "code",
   "execution_count": null,
   "id": "e521cf52-f6d1-4c3c-ab23-435436827e72",
   "metadata": {},
   "outputs": [],
   "source": []
  },
  {
   "cell_type": "code",
   "execution_count": null,
   "id": "d072cbef-450a-45d5-8315-5c5eafd42c92",
   "metadata": {},
   "outputs": [],
   "source": []
  }
 ],
 "metadata": {
  "kernelspec": {
   "display_name": "Python 3 (ipykernel)",
   "language": "python",
   "name": "python3"
  },
  "language_info": {
   "codemirror_mode": {
    "name": "ipython",
    "version": 3
   },
   "file_extension": ".py",
   "mimetype": "text/x-python",
   "name": "python",
   "nbconvert_exporter": "python",
   "pygments_lexer": "ipython3",
   "version": "3.12.5"
  }
 },
 "nbformat": 4,
 "nbformat_minor": 5
}
