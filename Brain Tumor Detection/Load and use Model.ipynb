{
 "cells": [
  {
   "cell_type": "code",
   "execution_count": 1,
   "id": "19e61939-9042-4634-a8bb-b1a7e6c3e60b",
   "metadata": {},
   "outputs": [],
   "source": [
    "from tensorflow.keras.models import load_model\n",
    "\n"
   ]
  },
  {
   "cell_type": "code",
   "execution_count": 2,
   "id": "5da82766-3ac9-44e1-a2c5-44c5fec46f88",
   "metadata": {},
   "outputs": [
    {
     "name": "stderr",
     "output_type": "stream",
     "text": [
      "WARNING:absl:Compiled the loaded model, but the compiled metrics have yet to be built. `model.compile_metrics` will be empty until you train or evaluate the model.\n"
     ]
    }
   ],
   "source": [
    "model = load_model('brain_tumor_cnn_model.h5')\n"
   ]
  },
  {
   "cell_type": "code",
   "execution_count": 3,
   "id": "5578b437-f4a7-46b6-96a9-6cadab2c7abe",
   "metadata": {},
   "outputs": [],
   "source": [
    "import numpy as np\n",
    "from tensorflow.keras.preprocessing import image\n",
    "\n",
    "img_path = 'C://Users//basit//Downloads//Testing//meningioma_tumor//image(1).jpg'\n",
    "img_size = (150, 150)  \n",
    "img = image.load_img(img_path, target_size=img_size)  \n",
    "img_array = image.img_to_array(img) \n",
    "img_array = np.expand_dims(img_array, axis=0)  \n",
    "img_array /= 255.0  \n"
   ]
  },
  {
   "cell_type": "code",
   "execution_count": 4,
   "id": "3d2d52cd-8cbe-447d-8404-61bb326859c1",
   "metadata": {},
   "outputs": [
    {
     "name": "stdout",
     "output_type": "stream",
     "text": [
      "\u001b[1m1/1\u001b[0m \u001b[32m━━━━━━━━━━━━━━━━━━━━\u001b[0m\u001b[37m\u001b[0m \u001b[1m6s\u001b[0m 6s/step\n",
      "Predicted Class: [2]\n"
     ]
    }
   ],
   "source": [
    "predictions = model.predict(img_array)\n",
    "\n",
    "predicted_class = np.argmax(predictions, axis=1)\n",
    "\n",
    "print(\"Predicted Class:\", predicted_class)\n"
   ]
  },
  {
   "cell_type": "code",
   "execution_count": null,
   "id": "116e8966-c81d-4ffc-b1cb-c8098b55562a",
   "metadata": {},
   "outputs": [],
   "source": []
  }
 ],
 "metadata": {
  "kernelspec": {
   "display_name": "Python 3 (ipykernel)",
   "language": "python",
   "name": "python3"
  },
  "language_info": {
   "codemirror_mode": {
    "name": "ipython",
    "version": 3
   },
   "file_extension": ".py",
   "mimetype": "text/x-python",
   "name": "python",
   "nbconvert_exporter": "python",
   "pygments_lexer": "ipython3",
   "version": "3.12.5"
  }
 },
 "nbformat": 4,
 "nbformat_minor": 5
}
